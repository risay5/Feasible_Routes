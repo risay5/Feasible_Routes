{
 "cells": [
  {
   "cell_type": "code",
   "execution_count": 1,
   "id": "a1865202",
   "metadata": {},
   "outputs": [],
   "source": [
    "# Define the routes and combinations which include the charging stations in the stated districts\n",
    "Route = [ ('Atasehir','Umraniye'), ('Atasehir','Beykoz','Cekmekoy'), \n",
    "          ('Atasehir','Umraniye','Uskudar'),('Beykoz','Cekmekoy','Sancaktepe'), \n",
    "          ('Beykoz','Uskudar','Umraniye','Atasehir','Kadikoy','Maltepe','Kartal'),\n",
    "          (\"Beykoz\",\"Cekmekoy\",\"Sancaktepe\",\"Sultanbeyli\",\"Maltepe\",\"Kartal\",\"Pendik\") ] \n",
    "\n",
    "\n",
    "\n",
    "Combination = [ ('Atasehir','Kadikoy'), ('Beykoz','Cekmekoy'), \n",
    "                ('Beykoz','Sancaktepe'), ('Cekmekoy','Sultanbeyli'), \n",
    "                ('Maltepe','Kadikoy'), ('Uskudar','Kadikoy','Beykoz'),\n",
    "                ('Beykoz','Sultanbeyli','Kartal'), ('Beykoz','Atasehir','Maltepe') ]\n",
    " \n",
    "    \n",
    "\n",
    "LofR = ['R1', 'R2', 'R3', 'R4', 'R5', 'R6'] \n",
    "\n",
    "LofC = ['C1', 'C2', 'C3', 'C4', 'C5', 'C6', 'C7', 'C8'] \n"
   ]
  },
  {
   "cell_type": "code",
   "execution_count": 9,
   "id": "0a573d68",
   "metadata": {},
   "outputs": [],
   "source": [
    "districts = ['Atasehir','Beykoz', 'Cekmekoy', 'Kadikoy', 'Kartal', 'Maltepe', 'Pendik', 'Sancaktepe', 'Sultanbeyli', 'Sile', 'Tuzla', 'Umraniye', 'Uskudar']\n",
    "\n",
    "# Define the distances matrix\n",
    "distance_matrix = [\n",
    "    \n",
    "[0, 24, 34, 9, 17, 11, 33, 29, 14, 63, 26, 7, 14],\n",
    "\n",
    "[24, 0, 24, 29, 37, 34, 60, 35, 34, 73, 47, 22, 26],\n",
    "\n",
    "[34, 24, 0, 38, 33, 27, 43, 14, 21, 36, 33, 29, 36],\n",
    "\n",
    "[9, 29, 38, 0, 19, 13, 20, 24, 18, 63, 30, 12, 11],\n",
    "\n",
    "[17, 37, 33, 19, 0, 13, 7, 21, 18, 60, 17, 22, 27],\n",
    "\n",
    "[11, 34, 27, 13, 13, 0, 16, 16, 11, 56, 27, 19, 20],\n",
    "\n",
    "[33, 60, 43, 20, 7, 16, 0, 29, 23, 71, 16, 27, 29],\n",
    "\n",
    "[29, 35, 14, 24, 21, 16, 29, 0, 10, 41, 21, 19, 28],\n",
    "\n",
    "[14, 34, 21, 18, 18, 11, 23, 10, 0, 50, 16, 20, 25],\n",
    "\n",
    "[63, 73, 36, 63, 60, 56, 71, 41, 50, 0, 63, 57, 63],\n",
    "\n",
    "[26, 47, 33, 30, 17, 27, 16, 21, 16, 63, 0, 32, 36],\n",
    "\n",
    "[7, 22, 29, 12, 22, 19, 27, 19, 20, 57, 32, 0, 12],\n",
    "\n",
    "[14, 26, 36, 11, 27, 20, 29, 28, 25, 63, 36, 12, 0]\n",
    "]\n",
    "\n"
   ]
  },
  {
   "cell_type": "markdown",
   "id": "22b5dae7",
   "metadata": {},
   "source": [
    "### QUESTION 1"
   ]
  },
  {
   "cell_type": "code",
   "execution_count": 3,
   "id": "930d9adb",
   "metadata": {},
   "outputs": [],
   "source": [
    "def check_feasibility(route, combination):\n",
    "\n",
    "    # Requesting the maximum range of the car from the user\n",
    "    remaining_range = int(input('Enter the range the car can go with full charge: '))\n",
    "    max_range = remaining_range\n",
    "\n",
    "    # Setting the remaining range to half of the initial maximum range\n",
    "    remaining_range = max_range / 2\n",
    "\n",
    "    # Loop through each district in the route\n",
    "    for i in range(len(route) - 1):\n",
    "        \n",
    "        # Check if the district is in the combination\n",
    "        if route[i] in combination:\n",
    "\n",
    "            # Charge the car and subtract the distance of two districts\n",
    "            remaining_range = max_range\n",
    "            remaining_range -= distance_matrix[districts.index(route[i])][districts.index(route[i + 1])]\n",
    "            \n",
    "            # If the remaining range is negative, the combination is not feasible\n",
    "            if remaining_range < 0:\n",
    "                return False \n",
    "            \n",
    "        # If not in combination do not charge the car and subtract the distance   \n",
    "        else:\n",
    "            remaining_range -= distance_matrix[districts.index(route[i])][districts.index(route[i + 1])]\n",
    "            \n",
    "            # If the remaining range is negative, the combination is not feasible\n",
    "            if remaining_range < 0:\n",
    "                \n",
    "                return False\n",
    "    \n",
    "    # If the car can cover the entire route without exceeding the range, the combination is feasible\n",
    "    return True\n"
   ]
  },
  {
   "cell_type": "code",
   "execution_count": 4,
   "id": "aee908b2",
   "metadata": {},
   "outputs": [
    {
     "data": {
      "text/plain": [
       "True"
      ]
     },
     "execution_count": 4,
     "metadata": {},
     "output_type": "execute_result"
    }
   ],
   "source": [
    "check_feasibility(('Atasehir','Beykoz','Cekmekoy'), ('Beykoz','Atasehir','Maltepe'))"
   ]
  },
  {
   "cell_type": "markdown",
   "id": "9229f757",
   "metadata": {},
   "source": [
    "### QUESTION 2"
   ]
  },
  {
   "cell_type": "code",
   "execution_count": 5,
   "id": "dd3d844e",
   "metadata": {},
   "outputs": [],
   "source": [
    "def find_feasible_route(LofR, LofC):\n",
    "    \n",
    "    # A dictionary to store feasible combinations\n",
    "    FeasibilityDict = {}\n",
    "    \n",
    "    # Request the initial car range from the user\n",
    "    remaining_range = int(input('Enter the maximum range the car can go: '))\n",
    "    \n",
    "    # Defined a new variable to store the first range \n",
    "    max_range = remaining_range\n",
    "    \n",
    "    # Loop through each route \n",
    "    for r1_index in range(len(Route)):\n",
    "        \n",
    "        # store the route tuple to iterate in the next for loop\n",
    "        r1 = Route[r1_index]\n",
    "        \n",
    "        FeasibilityDict[LofR[r1_index]] = []\n",
    "\n",
    "        # Loop through each combination\n",
    "        for c_index in range(len(Combination)):\n",
    "\n",
    "            # Store the combination tuple with relevant index\n",
    "            c = Combination[c_index]\n",
    "            remaining_range = max_range / 2\n",
    "\n",
    "            # Initialize a flag to True indicating initial feasibility\n",
    "            flag = True\n",
    "\n",
    "            # Loop through each district in the routesa\n",
    "            for r2_index in range(len(r1) - 1):\n",
    "                # Store the current district with relevant index\n",
    "                r2 = r1[r2_index]\n",
    "\n",
    "                # Check if current district in combination which means there is a charge station there\n",
    "                if r2 in c:\n",
    "                    \n",
    "                    # Charge the car \n",
    "                    remaining_range = max_range\n",
    "                    # Subtracting the distance between two districts from the range of the car\n",
    "                    remaining_range -= distance_matrix[districts.index(r2)][districts.index(r1[r2_index + 1])]\n",
    "                    \n",
    "                    # If the remaining range is negative, so the car has not enough range to complete the route\n",
    "                    if remaining_range < 0:\n",
    "                        flag = False\n",
    "                 \n",
    "                \n",
    "                # Only subtracting the distance from the range of the car because there is no staion here\n",
    "                else:  \n",
    "                    remaining_range -= distance_matrix[districts.index(r2)][districts.index(r1[r2_index + 1])]\n",
    "\n",
    "                    # If the remaining range is negative, so the car has not enough range to complete the route\n",
    "                    if remaining_range < 0:\n",
    "                        flag = False\n",
    "            \n",
    "            # If flag is still True means that remaining range has never been negative so the combination is feasible\n",
    "            if flag:\n",
    "                FeasibilityDict[LofR[r1_index]].append(LofC[c_index])\n",
    "   \n",
    "    return FeasibilityDict\n",
    "\n"
   ]
  },
  {
   "cell_type": "code",
   "execution_count": 6,
   "id": "7f53474d",
   "metadata": {},
   "outputs": [
    {
     "data": {
      "text/plain": [
       "{'R1': ['C1', 'C2', 'C3', 'C4', 'C5', 'C6', 'C7', 'C8'],\n",
       " 'R2': ['C1', 'C2', 'C3', 'C6', 'C7', 'C8'],\n",
       " 'R3': ['C1', 'C2', 'C3', 'C4', 'C5', 'C6', 'C7', 'C8'],\n",
       " 'R4': ['C2', 'C3', 'C4', 'C6', 'C7', 'C8'],\n",
       " 'R5': ['C6', 'C8'],\n",
       " 'R6': ['C3', 'C4', 'C7']}"
      ]
     },
     "execution_count": 6,
     "metadata": {},
     "output_type": "execute_result"
    }
   ],
   "source": [
    "find_feasible_route(LofR, LofC)"
   ]
  },
  {
   "cell_type": "markdown",
   "id": "a9aa5c6e",
   "metadata": {},
   "source": [
    "### QUESTION 3"
   ]
  },
  {
   "cell_type": "code",
   "execution_count": 7,
   "id": "9724d1f6",
   "metadata": {},
   "outputs": [],
   "source": [
    "def find_feasible_route_ex(Route, Combination):\n",
    "    # An empty dictionary to store feasible combinations for each route\n",
    "    FeasibilityDict = {}\n",
    "\n",
    "    # Request the initial car range from the user\n",
    "    remaining_range = int(input('Enter an initial range for the car: '))\n",
    "    \n",
    "    # Defined a new variable to store the first range \n",
    "    max_range = remaining_range\n",
    "\n",
    "\n",
    "    # Loop through each route\n",
    "    for r1 in Route:\n",
    "        # An empty list to store feasible combinations for the routeas\n",
    "        FeasibilityDict[r1] = []\n",
    "\n",
    "        # Loop through each combination\n",
    "        for c in Combination:\n",
    "            # Reset the remaining range to half of the initial maximum range for each combination\n",
    "            remaining_range = max_range / 2\n",
    "            \n",
    "            # Initialize a flag to True indicating initial feasibility\n",
    "            flag = True\n",
    "\n",
    "            # Loop through each district in the current route\n",
    "            for r2_index in range(len(r1) - 1):\n",
    "                \n",
    "                # A new variable to store the district with relevant index\n",
    "                r2 = r1[r2_index]\n",
    "\n",
    "                # Check if current district in combination which means there is a charge station there\n",
    "                if r2 in c:\n",
    "                    # If the district is in the combination, update the remaining range\n",
    "                    remaining_range = max_range\n",
    "                    remaining_range -= distance_matrix[districts.index(r2)][districts.index(r1[r2_index + 1])]\n",
    "\n",
    "                    # If the remaining range is negative, the combination is not feasible\n",
    "                    if remaining_range < 0:\n",
    "                        flag = False\n",
    "                else:\n",
    "                    remaining_range -= distance_matrix[districts.index(r2)][districts.index(r1[r2_index + 1])]\n",
    "\n",
    "                    # If the remaining range is negative, the combination is not feasible\n",
    "                    if remaining_range < 0:\n",
    "                        flag = False\n",
    "\n",
    "            # If the entire route can be covered without exceeding the range, add the combination to the feasible list\n",
    "            if flag:\n",
    "                FeasibilityDict[r1].append(c)\n",
    "\n",
    "    return FeasibilityDict\n"
   ]
  },
  {
   "cell_type": "code",
   "execution_count": 8,
   "id": "ed8c0825",
   "metadata": {},
   "outputs": [
    {
     "data": {
      "text/plain": [
       "{('Atasehir', 'Umraniye'): [('Atasehir', 'Kadikoy'),\n",
       "  ('Beykoz', 'Cekmekoy'),\n",
       "  ('Beykoz', 'Sancaktepe'),\n",
       "  ('Cekmekoy', 'Sultanbeyli'),\n",
       "  ('Maltepe', 'Kadikoy'),\n",
       "  ('Uskudar', 'Kadikoy', 'Beykoz'),\n",
       "  ('Beykoz', 'Sultanbeyli', 'Kartal'),\n",
       "  ('Beykoz', 'Atasehir', 'Maltepe')],\n",
       " ('Atasehir', 'Beykoz', 'Cekmekoy'): [('Atasehir', 'Kadikoy'),\n",
       "  ('Beykoz', 'Cekmekoy'),\n",
       "  ('Beykoz', 'Sancaktepe'),\n",
       "  ('Uskudar', 'Kadikoy', 'Beykoz'),\n",
       "  ('Beykoz', 'Sultanbeyli', 'Kartal'),\n",
       "  ('Beykoz', 'Atasehir', 'Maltepe')],\n",
       " ('Atasehir', 'Umraniye', 'Uskudar'): [('Atasehir', 'Kadikoy'),\n",
       "  ('Beykoz', 'Cekmekoy'),\n",
       "  ('Beykoz', 'Sancaktepe'),\n",
       "  ('Cekmekoy', 'Sultanbeyli'),\n",
       "  ('Maltepe', 'Kadikoy'),\n",
       "  ('Uskudar', 'Kadikoy', 'Beykoz'),\n",
       "  ('Beykoz', 'Sultanbeyli', 'Kartal'),\n",
       "  ('Beykoz', 'Atasehir', 'Maltepe')],\n",
       " ('Beykoz', 'Cekmekoy', 'Sancaktepe'): [('Beykoz', 'Cekmekoy'),\n",
       "  ('Beykoz', 'Sancaktepe'),\n",
       "  ('Cekmekoy', 'Sultanbeyli'),\n",
       "  ('Uskudar', 'Kadikoy', 'Beykoz'),\n",
       "  ('Beykoz', 'Sultanbeyli', 'Kartal'),\n",
       "  ('Beykoz', 'Atasehir', 'Maltepe')],\n",
       " ('Beykoz',\n",
       "  'Uskudar',\n",
       "  'Umraniye',\n",
       "  'Atasehir',\n",
       "  'Kadikoy',\n",
       "  'Maltepe',\n",
       "  'Kartal'): [('Uskudar', 'Kadikoy', 'Beykoz'),\n",
       "  ('Beykoz', 'Atasehir', 'Maltepe')],\n",
       " ('Beykoz',\n",
       "  'Cekmekoy',\n",
       "  'Sancaktepe',\n",
       "  'Sultanbeyli',\n",
       "  'Maltepe',\n",
       "  'Kartal',\n",
       "  'Pendik'): [('Beykoz', 'Sancaktepe'),\n",
       "  ('Cekmekoy', 'Sultanbeyli'),\n",
       "  ('Beykoz', 'Sultanbeyli', 'Kartal')]}"
      ]
     },
     "execution_count": 8,
     "metadata": {},
     "output_type": "execute_result"
    }
   ],
   "source": [
    "find_feasible_route_ex(Route, Combination)"
   ]
  },
  {
   "cell_type": "code",
   "execution_count": null,
   "id": "986700a0",
   "metadata": {},
   "outputs": [],
   "source": []
  }
 ],
 "metadata": {
  "kernelspec": {
   "display_name": "Python 3 (ipykernel)",
   "language": "python",
   "name": "python3"
  },
  "language_info": {
   "codemirror_mode": {
    "name": "ipython",
    "version": 3
   },
   "file_extension": ".py",
   "mimetype": "text/x-python",
   "name": "python",
   "nbconvert_exporter": "python",
   "pygments_lexer": "ipython3",
   "version": "3.9.13"
  }
 },
 "nbformat": 4,
 "nbformat_minor": 5
}
